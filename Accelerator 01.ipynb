{
 "cells": [
  {
   "cell_type": "code",
   "execution_count": 30,
   "id": "6441ff6d",
   "metadata": {},
   "outputs": [
    {
     "name": "stdout",
     "output_type": "stream",
     "text": [
      "Acceclerator Exercise 01\n",
      "-Multiply 2 3x3 Matrices\n",
      "-This Matrices should be Random\n",
      "[[0.50104865 0.79919541 0.63104782]\n",
      " [0.06145472 0.18922738 0.143147  ]\n",
      " [0.72685732 0.76918582 0.6221559 ]]\n",
      "[[0.73778913 0.40487381 0.64239606]\n",
      " [0.53909659 0.31142142 0.57614996]\n",
      " [0.26772401 0.34331241 0.69602801]]\n",
      "[[0.36966825 0.32357329 0.40538264]\n",
      " [0.03313003 0.05892946 0.08247414]\n",
      " [0.19459716 0.26407103 0.43303793]]\n"
     ]
    }
   ],
   "source": [
    "print('Acceclerator Exercise 01')\n",
    "\n",
    "print('-Multiply 2 3x3 Matrices')\n",
    "print('-This Matrices should be Random')\n",
    "\n",
    "import numpy as np\n",
    "\n",
    "a = np.random.rand(3,3) #Random\n",
    "b = np.random.rand(3,3) #Random\n",
    "\n",
    "print(a)\n",
    "print(b)\n",
    "\n",
    "def func1(): \n",
    "    c = a * b  #Multiply of the Random Matrices\n",
    "    print(c) #Result\n",
    "func1()\n"
   ]
  },
  {
   "cell_type": "code",
   "execution_count": null,
   "id": "e5b4f2a5",
   "metadata": {},
   "outputs": [],
   "source": []
  },
  {
   "cell_type": "code",
   "execution_count": null,
   "id": "92f18468",
   "metadata": {},
   "outputs": [],
   "source": []
  },
  {
   "cell_type": "code",
   "execution_count": null,
   "id": "ab680a14",
   "metadata": {},
   "outputs": [],
   "source": []
  }
 ],
 "metadata": {
  "kernelspec": {
   "display_name": "Python 3 (ipykernel)",
   "language": "python",
   "name": "python3"
  },
  "language_info": {
   "codemirror_mode": {
    "name": "ipython",
    "version": 3
   },
   "file_extension": ".py",
   "mimetype": "text/x-python",
   "name": "python",
   "nbconvert_exporter": "python",
   "pygments_lexer": "ipython3",
   "version": "3.9.12"
  }
 },
 "nbformat": 4,
 "nbformat_minor": 5
}
